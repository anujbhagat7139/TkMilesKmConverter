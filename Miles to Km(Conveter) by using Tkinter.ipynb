{
 "cells": [
  {
   "cell_type": "code",
   "execution_count": 41,
   "id": "f4b072dd",
   "metadata": {},
   "outputs": [],
   "source": [
    "from tkinter import *\n",
    "window=Tk()\n",
    "window.title(\"Mile to Km Converter\")\n",
    "window.config(padx=20,pady=20)\n",
    "#Here, padx pushes all the labels,button to 20\n",
    "\n",
    "label=Label(text=\"is equal to\",font=(\"Aerial\",10,\"bold\"))\n",
    "label.grid(row=1,column=0)\n",
    "\n",
    "miles_input=Entry(width=8)\n",
    "miles_input.grid(row=0,column=1)\n",
    "\n",
    "miles_label=Label(text=\"Miles\",font=(\"Aerial\",10,\"bold\"))\n",
    "miles_label.grid(row=0,column=2)\n",
    "\n",
    "km_result_label=Label(text=\"0\")\n",
    "km_result_label.grid(row=1,column=1)\n",
    "\n",
    "km_label=Label(text=\"Km\",font=(\"Aerial\",10,\"bold\"))\n",
    "km_label.grid(row=1,column=2)\n",
    "def converter():\n",
    "    miles=miles_input.get()\n",
    "    km=float(miles)*1.60934\n",
    "    km_result_label.config(text=f\"{round(km,2)}\")\n",
    "    \n",
    "calculate_button=Button(text=\"Calculate\",command=converter)\n",
    "calculate_button.grid(row=2,column=1)\n",
    "\n",
    "window.mainloop()"
   ]
  },
  {
   "cell_type": "code",
   "execution_count": null,
   "id": "ea54be0d",
   "metadata": {},
   "outputs": [],
   "source": []
  }
 ],
 "metadata": {
  "kernelspec": {
   "display_name": "Python 3 (ipykernel)",
   "language": "python",
   "name": "python3"
  },
  "language_info": {
   "codemirror_mode": {
    "name": "ipython",
    "version": 3
   },
   "file_extension": ".py",
   "mimetype": "text/x-python",
   "name": "python",
   "nbconvert_exporter": "python",
   "pygments_lexer": "ipython3",
   "version": "3.9.12"
  }
 },
 "nbformat": 4,
 "nbformat_minor": 5
}
